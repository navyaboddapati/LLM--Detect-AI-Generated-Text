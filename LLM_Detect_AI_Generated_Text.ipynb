{
  "nbformat": 4,
  "nbformat_minor": 0,
  "metadata": {
    "colab": {
      "provenance": [],
      "authorship_tag": "ABX9TyPkpypuUzvQJlzLVoXQwzua",
      "include_colab_link": true
    },
    "kernelspec": {
      "name": "python3",
      "display_name": "Python 3"
    },
    "language_info": {
      "name": "python"
    }
  },
  "cells": [
    {
      "cell_type": "markdown",
      "metadata": {
        "id": "view-in-github",
        "colab_type": "text"
      },
      "source": [
        "<a href=\"https://colab.research.google.com/github/navyaboddapati/LLM--Detect-AI-Generated-Text/blob/main/LLM_Detect_AI_Generated_Text.ipynb\" target=\"_parent\"><img src=\"https://colab.research.google.com/assets/colab-badge.svg\" alt=\"Open In Colab\"/></a>"
      ]
    },
    {
      "cell_type": "code",
      "source": [
        "# downloading necessary kaggle versions\n",
        "!pip install kaggle"
      ],
      "metadata": {
        "colab": {
          "base_uri": "https://localhost:8080/"
        },
        "id": "6dfE11rR9cmc",
        "outputId": "bf39fc57-fc23-4df9-d776-ea7f4d0df5be"
      },
      "execution_count": 16,
      "outputs": [
        {
          "output_type": "stream",
          "name": "stdout",
          "text": [
            "Requirement already satisfied: kaggle in /usr/local/lib/python3.10/dist-packages (1.5.16)\n",
            "Requirement already satisfied: six>=1.10 in /usr/local/lib/python3.10/dist-packages (from kaggle) (1.16.0)\n",
            "Requirement already satisfied: certifi in /usr/local/lib/python3.10/dist-packages (from kaggle) (2023.11.17)\n",
            "Requirement already satisfied: python-dateutil in /usr/local/lib/python3.10/dist-packages (from kaggle) (2.8.2)\n",
            "Requirement already satisfied: requests in /usr/local/lib/python3.10/dist-packages (from kaggle) (2.31.0)\n",
            "Requirement already satisfied: tqdm in /usr/local/lib/python3.10/dist-packages (from kaggle) (4.66.1)\n",
            "Requirement already satisfied: python-slugify in /usr/local/lib/python3.10/dist-packages (from kaggle) (8.0.1)\n",
            "Requirement already satisfied: urllib3 in /usr/local/lib/python3.10/dist-packages (from kaggle) (2.0.7)\n",
            "Requirement already satisfied: bleach in /usr/local/lib/python3.10/dist-packages (from kaggle) (6.1.0)\n",
            "Requirement already satisfied: webencodings in /usr/local/lib/python3.10/dist-packages (from bleach->kaggle) (0.5.1)\n",
            "Requirement already satisfied: text-unidecode>=1.3 in /usr/local/lib/python3.10/dist-packages (from python-slugify->kaggle) (1.3)\n",
            "Requirement already satisfied: charset-normalizer<4,>=2 in /usr/local/lib/python3.10/dist-packages (from requests->kaggle) (3.3.2)\n",
            "Requirement already satisfied: idna<4,>=2.5 in /usr/local/lib/python3.10/dist-packages (from requests->kaggle) (3.6)\n"
          ]
        }
      ]
    },
    {
      "cell_type": "code",
      "execution_count": 17,
      "metadata": {
        "id": "G9jXDMug9PTv"
      },
      "outputs": [],
      "source": [
        "# using kaggle key value\n",
        "import os\n",
        "os.environ['KAGGLE_USERNAME'] = 'navyaboddapati'\n",
        "os.environ['KAGGLE_KEY'] = '3d801ca7ef63201eb65ce89d7af7db3d'"
      ]
    },
    {
      "cell_type": "code",
      "source": [
        "# downloading data from kaggle competation\n",
        "!kaggle competitions download -c llm-detect-ai-generated-text"
      ],
      "metadata": {
        "colab": {
          "base_uri": "https://localhost:8080/"
        },
        "id": "Kv2grOrC9aWx",
        "outputId": "d0e0ca3d-a839-4dba-d519-e99fd396192f"
      },
      "execution_count": 18,
      "outputs": [
        {
          "output_type": "stream",
          "name": "stdout",
          "text": [
            "llm-detect-ai-generated-text.zip: Skipping, found more recently modified local copy (use --force to force download)\n"
          ]
        }
      ]
    },
    {
      "cell_type": "code",
      "source": [
        "# unziping the folder\n",
        "!unzip llm-detect-ai-generated-text.zip"
      ],
      "metadata": {
        "colab": {
          "base_uri": "https://localhost:8080/"
        },
        "id": "xiWKWHXp9gwI",
        "outputId": "1dc73129-1ab4-41b3-ebb0-0c6450d16079"
      },
      "execution_count": 19,
      "outputs": [
        {
          "output_type": "stream",
          "name": "stdout",
          "text": [
            "Archive:  llm-detect-ai-generated-text.zip\n",
            "replace sample_submission.csv? [y]es, [n]o, [A]ll, [N]one, [r]ename: y\n",
            "  inflating: sample_submission.csv   \n",
            "replace test_essays.csv? [y]es, [n]o, [A]ll, [N]one, [r]ename: y\n",
            "  inflating: test_essays.csv         \n",
            "replace train_essays.csv? [y]es, [n]o, [A]ll, [N]one, [r]ename: n\n",
            "replace train_prompts.csv? [y]es, [n]o, [A]ll, [N]one, [r]ename: a\n",
            "error:  invalid response [a]\n",
            "replace train_prompts.csv? [y]es, [n]o, [A]ll, [N]one, [r]ename: n\n"
          ]
        }
      ]
    },
    {
      "cell_type": "code",
      "source": [
        "import pandas as pd\n",
        "from concurrent.futures import process\n",
        "from sklearn.model_selection import train_test_split\n",
        "from sklearn.naive_bayes import MultinomialNB\n",
        "from sklearn.feature_extraction.text import TfidfVectorizer\n",
        "from sklearn.metrics import accuracy_score\n",
        "import numpy as np\n",
        "from nltk.tokenize import word_tokenize\n",
        "from collections import Counter\n",
        "import nltk"
      ],
      "metadata": {
        "id": "V4seJWZs9j90"
      },
      "execution_count": 20,
      "outputs": []
    },
    {
      "cell_type": "code",
      "source": [
        "# Loading the data\n",
        "train_data = pd.read_csv('train_essays.csv')\n",
        "test_data = pd.read_csv('test_essays.csv')"
      ],
      "metadata": {
        "id": "MdVXKPgg9ks_"
      },
      "execution_count": 21,
      "outputs": []
    },
    {
      "cell_type": "code",
      "source": [
        "# Checking on the nature of datasets\n",
        "print('Head train data : ')\n",
        "print(train_data.head())\n",
        "print('I\\nnfo: ')\n",
        "print(train_data.info())\n",
        "print('\\nDescribe data: ')\n",
        "print(train_data.describe())"
      ],
      "metadata": {
        "colab": {
          "base_uri": "https://localhost:8080/"
        },
        "id": "7soBfEl49n8o",
        "outputId": "c7357cde-9f02-4c00-de03-ba94423e9fec"
      },
      "execution_count": 22,
      "outputs": [
        {
          "output_type": "stream",
          "name": "stdout",
          "text": [
            "Head train data : \n",
            "         id  prompt_id                                               text  \\\n",
            "0  0059830c          0  Cars. Cars have been around since they became ...   \n",
            "1  005db917          0  Transportation is a large necessity in most co...   \n",
            "2  008f63e3          0  \"America's love affair with it's vehicles seem...   \n",
            "3  00940276          0  How often do you ride in a car? Do you drive a...   \n",
            "4  00c39458          0  Cars are a wonderful thing. They are perhaps o...   \n",
            "\n",
            "   generated  \n",
            "0          0  \n",
            "1          0  \n",
            "2          0  \n",
            "3          0  \n",
            "4          0  \n",
            "I\n",
            "nfo: \n",
            "<class 'pandas.core.frame.DataFrame'>\n",
            "RangeIndex: 1378 entries, 0 to 1377\n",
            "Data columns (total 4 columns):\n",
            " #   Column     Non-Null Count  Dtype \n",
            "---  ------     --------------  ----- \n",
            " 0   id         1378 non-null   object\n",
            " 1   prompt_id  1378 non-null   int64 \n",
            " 2   text       1378 non-null   object\n",
            " 3   generated  1378 non-null   int64 \n",
            "dtypes: int64(2), object(2)\n",
            "memory usage: 43.2+ KB\n",
            "None\n",
            "\n",
            "Describe data: \n",
            "         prompt_id    generated\n",
            "count  1378.000000  1378.000000\n",
            "mean      0.486212     0.002177\n",
            "std       0.499991     0.046625\n",
            "min       0.000000     0.000000\n",
            "25%       0.000000     0.000000\n",
            "50%       0.000000     0.000000\n",
            "75%       1.000000     0.000000\n",
            "max       1.000000     1.000000\n"
          ]
        }
      ]
    },
    {
      "cell_type": "code",
      "source": [
        "# finding no. of records\n",
        "num_records = len(train_data)\n",
        "print(f'Number of Records: {num_records}')"
      ],
      "metadata": {
        "colab": {
          "base_uri": "https://localhost:8080/"
        },
        "id": "XJK3ho3N9rIr",
        "outputId": "709c8222-6552-4d58-8d64-3a2021a8dc86"
      },
      "execution_count": 23,
      "outputs": [
        {
          "output_type": "stream",
          "name": "stdout",
          "text": [
            "Number of Records: 1378\n"
          ]
        }
      ]
    },
    {
      "cell_type": "code",
      "source": [
        "# no. of null values in the data\n",
        "null_counts = train_data.isnull().sum()\n",
        "print(f'Number of Null Values:{null_counts}')"
      ],
      "metadata": {
        "colab": {
          "base_uri": "https://localhost:8080/"
        },
        "id": "MEb1OXlB9uj1",
        "outputId": "9485baff-0591-45ec-99f2-e63d3cf1b357"
      },
      "execution_count": 24,
      "outputs": [
        {
          "output_type": "stream",
          "name": "stdout",
          "text": [
            "Number of Null Values:id           0\n",
            "prompt_id    0\n",
            "text         0\n",
            "generated    0\n",
            "dtype: int64\n"
          ]
        }
      ]
    },
    {
      "cell_type": "code",
      "source": [
        "'''df1 = pd.read_csv('train_essays.csv')\n",
        "df2 = pd.read_csv('train_prompts.csv')\n",
        "df = pd.merge(df1,df2,)'''"
      ],
      "metadata": {
        "colab": {
          "base_uri": "https://localhost:8080/",
          "height": 36
        },
        "id": "iEIFe6719w_b",
        "outputId": "7d6a92d7-b37c-4da6-e6a1-ec25827b4c85"
      },
      "execution_count": 25,
      "outputs": [
        {
          "output_type": "execute_result",
          "data": {
            "text/plain": [
              "\"df1 = pd.read_csv('train_essays.csv')\\ndf2 = pd.read_csv('train_prompts.csv')\\ndf = pd.merge(df1,df2,)\""
            ],
            "application/vnd.google.colaboratory.intrinsic+json": {
              "type": "string"
            }
          },
          "metadata": {},
          "execution_count": 25
        }
      ]
    },
    {
      "cell_type": "code",
      "source": [
        "# checking for how many are human essays and AI generated essays\n",
        "import matplotlib.pyplot as plt\n",
        "import seaborn as sns\n",
        "\n",
        "generated_counts = train_data['generated'].value_counts()\n",
        "\n",
        "for value,count in generated_counts.items():\n",
        "  print(f\"Generated {value}: { count} essays\")\n",
        "\n",
        "plt.figure(figsize=(9,5))\n",
        "sns.barplot(x=generated_counts.index, y=generated_counts.values, palette='viridis')\n",
        "print(\"\\n\")\n",
        "plt.title('Distribution of Human-Generated and AI-Generated Essays')\n",
        "plt.xlabel('Generated (0: Human, 1:AI)')\n",
        "plt.ylabel('Number of Essays')\n",
        "plt.show()"
      ],
      "metadata": {
        "colab": {
          "base_uri": "https://localhost:8080/",
          "height": 556
        },
        "id": "4FGECa4290rg",
        "outputId": "808dd1b4-15a7-4cdb-c988-4c4e86751587"
      },
      "execution_count": 26,
      "outputs": [
        {
          "output_type": "stream",
          "name": "stdout",
          "text": [
            "Generated 0: 1375 essays\n",
            "Generated 1: 3 essays\n",
            "\n",
            "\n"
          ]
        },
        {
          "output_type": "display_data",
          "data": {
            "text/plain": [
              "<Figure size 900x500 with 1 Axes>"
            ],
            "image/png": "[encoded data removed]"
          },
          "metadata": {}
        }
      ]
    },
    {
      "cell_type": "code",
      "source": [
        "# Splitting the data into train and valid\n",
        "from sklearn.model_selection import train_test_split\n",
        "from sklearn.svm import SVC\n",
        "\n",
        "# input value label text\n",
        "X = train_data['text']\n",
        "\n",
        "# output value label generated\n",
        "y = train_data['generated']\n",
        "\n",
        "X_train, X_valid, y_train, y_valid = train_test_split(X, y, test_size = 0.2, random_state = 42)\n"
      ],
      "metadata": {
        "id": "7IsLagfmNPHf"
      },
      "execution_count": 27,
      "outputs": []
    },
    {
      "cell_type": "code",
      "source": [
        "from nltk.tokenize import word_tokenize\n",
        "from collections import Counter\n",
        "import nltk\n",
        "\n",
        "# tokenizing the text\n",
        "nltk.download('punkt')\n",
        "\n",
        "tokenized_essays = [word_tokenize(essay.lower()) for essay in train_data['text']]\n",
        "\n",
        "all_words = [word for essay_words in tokenized_essays for word in essay_words]\n",
        "\n",
        "word_counts = Counter(all_words)\n",
        "\n",
        "# Building the vocabulary\n",
        "\n",
        "vocabulary = [word for word, count in word_counts.items() if count>=5]\n",
        "\n",
        "# reversing the index\n",
        "reverse_index = {word: idx for idx, word in enumerate(vocabulary)}\n",
        "\n",
        "print(\"Vocabulary:\" , vocabulary[:10])\n",
        "\n",
        "# print(\"Reverse Index:\" , reverse_index)\n"
      ],
      "metadata": {
        "colab": {
          "base_uri": "https://localhost:8080/"
        },
        "id": "tcv7s22ZiNBp",
        "outputId": "79084e12-5f69-42fb-ddfd-51f604f90685"
      },
      "execution_count": 28,
      "outputs": [
        {
          "output_type": "stream",
          "name": "stderr",
          "text": [
            "[nltk_data] Downloading package punkt to /root/nltk_data...\n",
            "[nltk_data]   Package punkt is already up-to-date!\n"
          ]
        },
        {
          "output_type": "stream",
          "name": "stdout",
          "text": [
            "Vocabulary: ['cars', '.', 'have', 'been', 'around', 'since', 'they', 'became', 'famous', 'in']\n"
          ]
        }
      ]
    },
    {
      "cell_type": "code",
      "source": [
        "# calculating total words\n",
        "total_words = len(all_words)\n",
        "\n",
        "#calculating word occurence probability\n",
        "word_occurence_probability = {word: count/total_words for word, count in word_counts.items()}\n",
        "\n",
        "print(\"Total words count: \", total_words)\n",
        "# print(\"Word occurences probability: \",word_occurence_probability)"
      ],
      "metadata": {
        "colab": {
          "base_uri": "https://localhost:8080/"
        },
        "id": "EgSoQ35mnQnb",
        "outputId": "4dcf92bd-c03e-45da-b807-afc154626376"
      },
      "execution_count": 29,
      "outputs": [
        {
          "output_type": "stream",
          "name": "stdout",
          "text": [
            "Total words count:  855744\n"
          ]
        }
      ]
    },
    {
      "cell_type": "code",
      "source": [
        "# calculating conditional probabilities\n",
        "def calculate_conditional_probabilities(data, target_class, vocabulary, word_index):\n",
        "    class_data = data[data['generated'] == target_class]\n",
        "    total_class_words = [word for essay in class_data['text'] for word in word_tokenize(essay.lower())]\n",
        "\n",
        "    class_word_counts = Counter(total_class_words)\n",
        "\n",
        "    conditional_probabilities = {word: class_word_counts[word]/len(total_class_words) for word in vocabulary}\n",
        "\n",
        "    return  conditional_probabilities\n",
        "\n",
        "    human_cond_prob = calculate_conditional_probabilities(train_data, 0, vocabulary, word_index)\n",
        "\n",
        "    # print(\"Humand conditional Probability\", human_cond_prob)\n",
        "\n",
        "    llm_cond_prob = calculate_conditional_probabilities(train_data, 1, vocabulary, word_index)\n",
        "\n",
        "    # print(\"LLM conditional Probability\", llm_cond_prob)\n"
      ],
      "metadata": {
        "id": "a29aMqNJjqUC"
      },
      "execution_count": 30,
      "outputs": []
    },
    {
      "cell_type": "code",
      "source": [
        "from concurrent.futures import process\n",
        "from sklearn.model_selection import train_test_split\n",
        "from sklearn.naive_bayes import MultinomialNB\n",
        "from sklearn.feature_extraction.text import TfidfVectorizer\n",
        "from sklearn.metrics import accuracy_score\n",
        "import numpy as np\n",
        "\n",
        "labels = train_data['generated'].values\n",
        "\n",
        "processed_essays = [' '.join(essay) for essay in tokenized_essays]\n",
        "\n",
        "# splitting data to train and development\n",
        "X_train, X_dev, y_train, y_dev = train_test_split(processed_essays, labels, test_size =0.2, random_state = 42)\n",
        "\n",
        "X_train_array = np.array(X_train)\n",
        "X_dev_array = np.array(X_dev)\n",
        "\n",
        "# vectorized train and development data\n",
        "vectorizer = TfidfVectorizer()\n",
        "X_train_vectorized = vectorizer.fit_transform(X_train)\n",
        "X_dev_vectorized = vectorizer.transform(X_dev)\n",
        "\n",
        "nb_classifier = MultinomialNB()\n",
        "nb_classifier.fit(X_train_vectorized, y_train)\n",
        "\n",
        "#printing accuracy of development set\n",
        "dev_predictions = nb_classifier.predict(X_dev_vectorized)\n",
        "\n",
        "accuracy = accuracy_score(y_dev, dev_predictions)\n",
        "print(f\"Accuracy on the Development set: {accuracy}\")\n",
        "\n",
        "# printing accuracy of training set\n",
        "train_predictions = nb_classifier.predict(X_train_vectorized)\n",
        "\n",
        "train_accuracy = accuracy_score(y_train, train_predictions)\n",
        "print(\"Accuracy on the Training set:\",train_accuracy)\n",
        "\n"
      ],
      "metadata": {
        "colab": {
          "base_uri": "https://localhost:8080/"
        },
        "id": "RHVFmum-nAeW",
        "outputId": "5cdf5722-98ca-4f78-ff15-1cdfc9390716"
      },
      "execution_count": 31,
      "outputs": [
        {
          "output_type": "stream",
          "name": "stdout",
          "text": [
            "Accuracy on the Development set: 0.9963768115942029\n",
            "Accuracy on the Training set: 0.9981851179673321\n"
          ]
        }
      ]
    },
    {
      "cell_type": "code",
      "source": [
        "# taking different values of smoothing\n",
        "alpha_values = [0.1, 0.5, 1.0]\n",
        "accuracies = []\n",
        "\n",
        "# finding accuracy for different values of alpha\n",
        "for alpha in alpha_values:\n",
        "    nb_classifier = MultinomialNB(alpha = alpha)\n",
        "    nb_classifier.fit(X_train_vectorized, y_train)\n",
        "    dev_predictions = nb_classifier.predict(X_dev_vectorized)\n",
        "    accuracy = accuracy_score(y_dev, dev_predictions)\n",
        "    accuracies.append(accuracy)\n",
        "    print(f\"Smoothing (alpha={alpha}): Accuracy on Development set: {accuracy}\")\n",
        "\n",
        "# predicting top 10 words of the class\n",
        "feature_names = np.array(vectorizer.get_feature_names_out())\n",
        "top_predictive_words = {}\n",
        "\n",
        "for i, class_label in enumerate(nb_classifier.classes_):\n",
        "    class_probs = nb_classifier.feature_log_prob_[i]\n",
        "    top_word_indices = np.argsort(class_probs)[::-1][:10]\n",
        "    top_words = [feature_names[idx] for idx in top_word_indices]\n",
        "    top_predictive_words[class_label] = top_words\n",
        "    print(f\"Top 10 words predicting class '{class_label}': {top_words}\")\n",
        "\n",
        "# finding best alpha value\n",
        "optimal_alpha = alpha_values[np.argmax(accuracies)]\n",
        "print(f\"Optimal Smoothing Parameter (aplha): {optimal_alpha}\")\n",
        "\n",
        "final_nb_classifier = MultinomialNB(alpha=optimal_alpha)\n",
        "final_nb_classifier.fit(X_train_vectorized, y_train)\n",
        "\n",
        "# Process the test essays\n",
        "tokenized_test_essays = [word_tokenize(essay.lower()) for essay in test_data['text']]\n",
        "processed_test_essays = [' '.join(essay) for essay in tokenized_test_essays]\n",
        "\n",
        "X_test_vectorized = vectorizer.transform(processed_test_essays)\n",
        "\n",
        "# Make predictions on the test dataset\n",
        "final_test_predictions = final_nb_classifier.predict(X_test_vectorized)\n",
        "\n",
        "# Prepared submission DataFrame\n",
        "submission_df = pd.DataFrame({'id': test_data['id'], 'generated': final_test_predictions})\n",
        "\n",
        "# Save the submission DataFrame to a CSV file\n",
        "submission_df.to_csv('final_submission.csv', index=False)\n",
        "\n",
        "\n"
      ],
      "metadata": {
        "colab": {
          "base_uri": "https://localhost:8080/"
        },
        "id": "KIQJG3Pd1wI9",
        "outputId": "efcef325-8dd1-41b9-b4af-358f59c9cbf1"
      },
      "execution_count": 32,
      "outputs": [
        {
          "output_type": "stream",
          "name": "stdout",
          "text": [
            "Smoothing (alpha=0.1): Accuracy on Development set: 0.9963768115942029\n",
            "Smoothing (alpha=0.5): Accuracy on Development set: 0.9963768115942029\n",
            "Smoothing (alpha=1.0): Accuracy on Development set: 0.9963768115942029\n",
            "Top 10 words predicting class '0': ['the', 'to', 'of', 'and', 'in', 'is', 'electoral', 'that', 'car', 'vote']\n",
            "Top 10 words predicting class '1': ['the', 'votes', 'electoral', 'state', 'nationally', 'vote', 'of', 'candidate', 'college', 'for']\n",
            "Optimal Smoothing Parameter (aplha): 0.1\n"
          ]
        }
      ]
    },
    {
      "cell_type": "markdown",
      "source": [
        "\n",
        "**References**\n",
        "[1].\tLLM - Detect AI Generated Text | Kaggle\n",
        "[2].\tBird, Steven, Edward Loper and Ewan Klein (2009), Natural Language Processing with Python. https://www.nltk.org/\n",
        "[3].\thttps://www.nltk.org/api/nltk.html\n",
        "[4].\thttps://link.springer.com/article/10.1007/s42979-021-00480-4\n",
        "[5].\thttps://kavita-ganesan.com/practical-text-classification-best-practices/\n",
        "[6].\thttps://www.machinelearningplus.com/predictive-modeling/how-naive-bayes-algorithm-works-with-example-and-full-code/\n",
        "[7].\thttps://scikit-learn.org/stable/modules/naive_bayes.html\n",
        "[8].\thttps://www.freecodecamp.org/news/how-naive-bayes-classifiers-work/\n",
        "[9].\tThe Naive Bayes classifier. The Naive Bayes algorithm is explained… | by Ritwick Roy | Towards Data Science\n",
        "[10].\thttps://scikit-learn.org/stable/modules/naive_bayes.html\n",
        "[11].\thttps://pubs.aip.org/aip/acp/article/2566/1/030004/2829788/Classification-data-mining-with-Laplacian\n",
        "[12].\thttps://cs229.stanford.edu/proj2020spr/report/Wu_Shin.pdf\n",
        "[13].\thttps://arxiv.org/pdf/2004.03705\n",
        "[14]. https://link.springer.com/chapter/10.1007/978-3-030-84522-3_32\n",
        "\n"
      ],
      "metadata": {
        "id": "mgmodI0biead"
      }
    }
  ]
}